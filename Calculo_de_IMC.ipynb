{
  "nbformat": 4,
  "nbformat_minor": 0,
  "metadata": {
    "colab": {
      "provenance": [],
      "authorship_tag": "ABX9TyObfyVeY9a1eLvFyiVIJ6C2",
      "include_colab_link": true
    },
    "kernelspec": {
      "name": "python3",
      "display_name": "Python 3"
    },
    "language_info": {
      "name": "python"
    }
  },
  "cells": [
    {
      "cell_type": "markdown",
      "metadata": {
        "id": "view-in-github",
        "colab_type": "text"
      },
      "source": [
        "<a href=\"https://colab.research.google.com/github/Joao-kzk/praticas/blob/main/Calculo_de_IMC.ipynb\" target=\"_parent\"><img src=\"https://colab.research.google.com/assets/colab-badge.svg\" alt=\"Open In Colab\"/></a>"
      ]
    },
    {
      "cell_type": "code",
      "execution_count": 5,
      "metadata": {
        "colab": {
          "base_uri": "https://localhost:8080/"
        },
        "id": "DA4JKDZebkPH",
        "outputId": "c9639ee5-e403-4298-e6c2-06016767049c"
      },
      "outputs": [
        {
          "output_type": "stream",
          "name": "stdout",
          "text": [
            "Digite o seu nome: joão\n",
            "Digite seu peso em KG: 76.600\n",
            "Digite sua altura em metros: 1.77\n",
            "joão, você tem: 76.6 KG e 1.77 de altura. Seu IMC é: 24.45\n",
            "Você está no peso ideal.\n"
          ]
        }
      ],
      "source": [
        "nome = input(\"Digite o seu nome: \")\n",
        "peso = float(input(\"Digite seu peso em KG: \"))\n",
        "altura = float(input(\"Digite sua altura em metros: \"))\n",
        "\n",
        "imc = peso / (altura ** 2)\n",
        "\n",
        "print(f\"{nome}, você tem: {peso} KG e {altura} de altura. Seu IMC é: {imc:.2f}\")\n",
        "\n",
        "if imc < 18.5:\n",
        "    print(\"Você está abaixo do peso.\")\n",
        "elif 18.5 <= imc < 25:\n",
        "    print(\"Você está no peso ideal.\")\n",
        "elif 25 <= imc < 30:\n",
        "    print(\"Você está com sobrepeso.\")\n",
        "elif 30 <= imc < 35:\n",
        "    print(\"Você está com obesidade grau I.\")\n"
      ]
    },
    {
      "cell_type": "markdown",
      "source": [],
      "metadata": {
        "id": "dNOhhMMkedTX"
      }
    }
  ]
}