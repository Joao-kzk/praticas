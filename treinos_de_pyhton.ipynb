{
  "nbformat": 4,
  "nbformat_minor": 0,
  "metadata": {
    "colab": {
      "provenance": [],
      "authorship_tag": "ABX9TyMM/WO+QDEOhnDAS31gTUy6",
      "include_colab_link": true
    },
    "kernelspec": {
      "name": "python3",
      "display_name": "Python 3"
    },
    "language_info": {
      "name": "python"
    }
  },
  "cells": [
    {
      "cell_type": "markdown",
      "metadata": {
        "id": "view-in-github",
        "colab_type": "text"
      },
      "source": [
        "<a href=\"https://colab.research.google.com/github/Joao-kzk/praticas/blob/main/treinos_de_pyhton.ipynb\" target=\"_parent\"><img src=\"https://colab.research.google.com/assets/colab-badge.svg\" alt=\"Open In Colab\"/></a>"
      ]
    },
    {
      "cell_type": "code",
      "execution_count": null,
      "metadata": {
        "colab": {
          "base_uri": "https://localhost:8080/"
        },
        "id": "DA4JKDZebkPH",
        "outputId": "c9639ee5-e403-4298-e6c2-06016767049c"
      },
      "outputs": [
        {
          "output_type": "stream",
          "name": "stdout",
          "text": [
            "Digite o seu nome: joão\n",
            "Digite seu peso em KG: 76.600\n",
            "Digite sua altura em metros: 1.77\n",
            "joão, você tem: 76.6 KG e 1.77 de altura. Seu IMC é: 24.45\n",
            "Você está no peso ideal.\n"
          ]
        }
      ],
      "source": [
        "nome = input(\"Digite o seu nome: \")\n",
        "peso = float(input(\"Digite seu peso em KG: \"))\n",
        "altura = float(input(\"Digite sua altura em metros: \"))\n",
        "\n",
        "imc = peso / (altura ** 2)\n",
        "\n",
        "print(f\"{nome}, você tem: {peso} KG e {altura} de altura. Seu IMC é: {imc:.2f}\")\n",
        "\n",
        "if imc < 18.5:\n",
        "    print(\"Você está abaixo do peso.\")\n",
        "elif 18.5 <= imc < 25:\n",
        "    print(\"Você está no peso ideal.\")\n",
        "elif 25 <= imc < 30:\n",
        "    print(\"Você está com sobrepeso.\")\n",
        "elif 30 <= imc < 35:\n",
        "    print(\"Você está com obesidade grau I.\")\n"
      ]
    },
    {
      "cell_type": "markdown",
      "source": [],
      "metadata": {
        "id": "dNOhhMMkedTX"
      }
    },
    {
      "cell_type": "code",
      "source": [
        "nome = input(\"Digite seu nome: \")\n",
        "nota1 = float(input(f\"Digite a primeira nota {nome}: \"))\n",
        "nota2 = float(input(f\"Digite a segunda nota {nome}: \"))\n",
        "\n",
        "media = (nota1 + nota2) / 2\n",
        "\n",
        "print(f\"{nome}, sua média é: {media:.2f}\")\n",
        "\n",
        "if media >= 6:\n",
        "    print(\"Parabéns, você foi aprovado!\")\n",
        "else:\n",
        "    print(\"Infelizmente, você foi reprovado.\")\n"
      ],
      "metadata": {
        "colab": {
          "base_uri": "https://localhost:8080/"
        },
        "id": "CWUqNGCQJH2s",
        "outputId": "fe19e63c-39b8-4c81-8516-e3edc2d66e00"
      },
      "execution_count": null,
      "outputs": [
        {
          "output_type": "stream",
          "name": "stdout",
          "text": [
            "Digite seu nome: Valéria\n",
            "Digite a primeira nota Valéria: 8\n",
            "Digite a segunda nota Valéria: 6\n",
            "Valéria, sua média é: 7.00\n",
            "Parabéns, você foi aprovado!\n"
          ]
        }
      ]
    },
    {
      "cell_type": "code",
      "source": [
        "nome = input(\"Digite seu nome: \")\n",
        "\n",
        "notas = []\n",
        "for i in range(1, 4):\n",
        "    nota = float(input(f\"Digite a {i}ª nota: \"))\n",
        "    notas.append(nota)\n",
        "\n",
        "media = sum(notas) / len(notas)\n",
        "\n",
        "print(f\"{nome}, sua média é: {media:.2f}\")\n",
        "\n",
        "if media >= 7:\n",
        "    print(\"Parabéns, você foi aprovado!\")\n",
        "\n",
        "elif media >= 5 < 7:\n",
        "    print(\"Recuperação\")\n",
        "\n",
        "else:\n",
        "    print(\"Infelizmente, você foi reprovado.\")"
      ],
      "metadata": {
        "colab": {
          "base_uri": "https://localhost:8080/"
        },
        "id": "daDxP0CgaqTJ",
        "outputId": "894a2d07-a565-4a98-f063-b5126d37dc50"
      },
      "execution_count": 3,
      "outputs": [
        {
          "output_type": "stream",
          "name": "stdout",
          "text": [
            "Digite seu nome: joao\n",
            "Digite a 1ª nota: 4\n",
            "Digite a 2ª nota: 8\n",
            "Digite a 3ª nota: 9\n",
            "joao, sua média é: 7.00\n",
            "Parabéns, você foi aprovado!\n"
          ]
        }
      ]
    }
  ]
}

import java.util.Scanner;

public class MyClass {
  public static void main(String args[]) {
    Scanner scanner = new Scanner(System.in);
    System.out.print("Digite o nome do produto: ");
        String nome = scanner.nextLine();

        System.out.print("Digite seu preço: ");
        double preço = scanner.nextDouble();

        System.out.print("Digite a quantidade: ");
        int quantidade = scanner.nextInt();
        
        double total = (preço * quantidade);
        System.out.printf("Valor total da compra: R$ %.2f\n", total);
        
        if (total >= 100) {
            System.out.print("Parabéns voce ganhou frete");
            
        } else {
            System.out.print("frete nao incluso");
        }
        
  }
}
