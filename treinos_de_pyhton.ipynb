{
  "nbformat": 4,
  "nbformat_minor": 0,
  "metadata": {
    "colab": {
      "provenance": [],
      "authorship_tag": "ABX9TyMMnV/PLlf7xuF10JT9HyRs",
      "include_colab_link": true
    },
    "kernelspec": {
      "name": "python3",
      "display_name": "Python 3"
    },
    "language_info": {
      "name": "python"
    }
  },
  "cells": [
    {
      "cell_type": "markdown",
      "metadata": {
        "id": "view-in-github",
        "colab_type": "text"
      },
      "source": [
        "<a href=\"https://colab.research.google.com/github/Joao-kzk/praticas/blob/main/treinos_de_pyhton.ipynb\" target=\"_parent\"><img src=\"https://colab.research.google.com/assets/colab-badge.svg\" alt=\"Open In Colab\"/></a>"
      ]
    },
    {
      "cell_type": "code",
      "execution_count": null,
      "metadata": {
        "colab": {
          "base_uri": "https://localhost:8080/"
        },
        "id": "DA4JKDZebkPH",
        "outputId": "c9639ee5-e403-4298-e6c2-06016767049c"
      },
      "outputs": [
        {
          "output_type": "stream",
          "name": "stdout",
          "text": [
            "Digite o seu nome: joão\n",
            "Digite seu peso em KG: 76.600\n",
            "Digite sua altura em metros: 1.77\n",
            "joão, você tem: 76.6 KG e 1.77 de altura. Seu IMC é: 24.45\n",
            "Você está no peso ideal.\n"
          ]
        }
      ],
      "source": [
        "nome = input(\"Digite o seu nome: \")\n",
        "peso = float(input(\"Digite seu peso em KG: \"))\n",
        "altura = float(input(\"Digite sua altura em metros: \"))\n",
        "\n",
        "imc = peso / (altura ** 2)\n",
        "\n",
        "print(f\"{nome}, você tem: {peso} KG e {altura} de altura. Seu IMC é: {imc:.2f}\")\n",
        "\n",
        "if imc < 18.5:\n",
        "    print(\"Você está abaixo do peso.\")\n",
        "elif 18.5 <= imc < 25:\n",
        "    print(\"Você está no peso ideal.\")\n",
        "elif 25 <= imc < 30:\n",
        "    print(\"Você está com sobrepeso.\")\n",
        "elif 30 <= imc < 35:\n",
        "    print(\"Você está com obesidade grau I.\")\n"
      ]
    },
    {
      "cell_type": "markdown",
      "source": [],
      "metadata": {
        "id": "dNOhhMMkedTX"
      }
    },
    {
      "cell_type": "code",
      "source": [
        "num_alunos = int(input(\"Quantos alunos serão cadastrados? \"))\n",
        "\n",
        "alunos = []\n",
        "\n",
        "for i in range(num_alunos):\n",
        "    nome_aluno = input(f\"Digite o nome do {i+1}º aluno: \")\n",
        "    notas_aluno = []\n",
        "    for j in range(1, 4):\n",
        "        nota = float(input(f\"Digite a {j}ª nota de {nome_aluno}: \"))\n",
        "        notas_aluno.append(nota)\n",
        "    media_aluno = sum(notas_aluno) / len(notas_aluno)\n",
        "    alunos.append({\"nome\": nome_aluno, \"media\": media_aluno})\n",
        "\n",
        "print(\"\\n--- Médias dos Alunos ---\")\n",
        "for aluno in alunos:\n",
        "    print(f\"Nome: {aluno['nome']}, Média: {aluno['media']:.2f}\")\n"
      ],
      "metadata": {
        "colab": {
          "base_uri": "https://localhost:8080/"
        },
        "id": "CWUqNGCQJH2s",
        "outputId": "fe19e63c-39b8-4c81-8516-e3edc2d66e00"
      },
      "execution_count": null,
      "outputs": [
        {
          "output_type": "stream",
          "name": "stdout",
          "text": [
            "Digite seu nome: Valéria\n",
            "Digite a primeira nota Valéria: 8\n",
            "Digite a segunda nota Valéria: 6\n",
            "Valéria, sua média é: 7.00\n",
            "Parabéns, você foi aprovado!\n"
          ]
        }
      ]
    }
  ]
}